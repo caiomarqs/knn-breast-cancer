{
 "metadata": {
  "language_info": {
   "codemirror_mode": {
    "name": "ipython",
    "version": 3
   },
   "file_extension": ".py",
   "mimetype": "text/x-python",
   "name": "python",
   "nbconvert_exporter": "python",
   "pygments_lexer": "ipython3",
   "version": "3.8.2-final"
  },
  "orig_nbformat": 2,
  "kernelspec": {
   "name": "python_defaultSpec_1600366835278",
   "display_name": "Python 3.8.2 64-bit"
  }
 },
 "nbformat": 4,
 "nbformat_minor": 2,
 "cells": [
  {
   "cell_type": "code",
   "execution_count": 2,
   "metadata": {},
   "outputs": [],
   "source": [
    "import pandas as pd\n",
    "import numpy as np\n",
    "import math"
   ]
  },
  {
   "cell_type": "code",
   "execution_count": 3,
   "metadata": {},
   "outputs": [],
   "source": [
    "#lendo o data set\n",
    "data = pd.read_csv('./breast-cancer.data', header=None)"
   ]
  },
  {
   "cell_type": "code",
   "execution_count": 4,
   "metadata": {
    "tags": []
   },
   "outputs": [
    {
     "output_type": "stream",
     "name": "stdout",
     "text": "Numero de instancias:  286\n"
    }
   ],
   "source": [
    "#Conferindo o tamanho do data set\n",
    "print(\"Numero de instancias: \", len(data.index)) #inicia em 0"
   ]
  },
  {
   "cell_type": "code",
   "execution_count": 5,
   "metadata": {
    "tags": []
   },
   "outputs": [
    {
     "output_type": "display_data",
     "data": {
      "text/plain": "                  class    age menopause tumor-size inv-nodes node-caps  \\\n0  no-recurrence-events  30-39   premeno      30-34       0-2        no   \n1  no-recurrence-events  40-49   premeno      20-24       0-2        no   \n2  no-recurrence-events  40-49   premeno      20-24       0-2        no   \n3  no-recurrence-events  60-69      ge40      15-19       0-2        no   \n4  no-recurrence-events  40-49   premeno        0-4       0-2        no   \n\n   deg-malig breast breast-quad irradiant  \n0          3   left    left_low        no  \n1          2  right    right_up        no  \n2          2   left    left_low        no  \n3          2  right     left_up        no  \n4          2  right   right_low        no  ",
      "text/html": "<div>\n<style scoped>\n    .dataframe tbody tr th:only-of-type {\n        vertical-align: middle;\n    }\n\n    .dataframe tbody tr th {\n        vertical-align: top;\n    }\n\n    .dataframe thead th {\n        text-align: right;\n    }\n</style>\n<table border=\"1\" class=\"dataframe\">\n  <thead>\n    <tr style=\"text-align: right;\">\n      <th></th>\n      <th>class</th>\n      <th>age</th>\n      <th>menopause</th>\n      <th>tumor-size</th>\n      <th>inv-nodes</th>\n      <th>node-caps</th>\n      <th>deg-malig</th>\n      <th>breast</th>\n      <th>breast-quad</th>\n      <th>irradiant</th>\n    </tr>\n  </thead>\n  <tbody>\n    <tr>\n      <th>0</th>\n      <td>no-recurrence-events</td>\n      <td>30-39</td>\n      <td>premeno</td>\n      <td>30-34</td>\n      <td>0-2</td>\n      <td>no</td>\n      <td>3</td>\n      <td>left</td>\n      <td>left_low</td>\n      <td>no</td>\n    </tr>\n    <tr>\n      <th>1</th>\n      <td>no-recurrence-events</td>\n      <td>40-49</td>\n      <td>premeno</td>\n      <td>20-24</td>\n      <td>0-2</td>\n      <td>no</td>\n      <td>2</td>\n      <td>right</td>\n      <td>right_up</td>\n      <td>no</td>\n    </tr>\n    <tr>\n      <th>2</th>\n      <td>no-recurrence-events</td>\n      <td>40-49</td>\n      <td>premeno</td>\n      <td>20-24</td>\n      <td>0-2</td>\n      <td>no</td>\n      <td>2</td>\n      <td>left</td>\n      <td>left_low</td>\n      <td>no</td>\n    </tr>\n    <tr>\n      <th>3</th>\n      <td>no-recurrence-events</td>\n      <td>60-69</td>\n      <td>ge40</td>\n      <td>15-19</td>\n      <td>0-2</td>\n      <td>no</td>\n      <td>2</td>\n      <td>right</td>\n      <td>left_up</td>\n      <td>no</td>\n    </tr>\n    <tr>\n      <th>4</th>\n      <td>no-recurrence-events</td>\n      <td>40-49</td>\n      <td>premeno</td>\n      <td>0-4</td>\n      <td>0-2</td>\n      <td>no</td>\n      <td>2</td>\n      <td>right</td>\n      <td>right_low</td>\n      <td>no</td>\n    </tr>\n  </tbody>\n</table>\n</div>"
     },
     "metadata": {}
    }
   ],
   "source": [
    "#Dando nomes as colunas\n",
    "data.columns = ['class', 'age', 'menopause', 'tumor-size', 'inv-nodes', 'node-caps', 'deg-malig', 'breast', 'breast-quad', 'irradiant']\n",
    "display(data.head())"
   ]
  },
  {
   "cell_type": "code",
   "execution_count": 6,
   "metadata": {
    "tags": []
   },
   "outputs": [
    {
     "output_type": "stream",
     "name": "stdout",
     "text": "0    no-recurrence-events\n1    no-recurrence-events\n2    no-recurrence-events\n3    no-recurrence-events\n4    no-recurrence-events\nName: class, dtype: object\n0    30-39\n1    40-49\n2    40-49\n3    60-69\n4    40-49\nName: age, dtype: object\n0    no\n1    no\n2    no\n3    no\n4    no\nName: irradiant, dtype: object\n"
    }
   ],
   "source": [
    "#separando as colunas\n",
    "col_class = data.loc[:, 'class'] #Todas as linhas pela a coluna indicada\n",
    "col_age = data.loc[:, 'age']\n",
    "col_menopause = data.loc[:,'menopause']\n",
    "col_tumor_size = data.loc[:,'tumor-size']\n",
    "col_inv_nodes = data.loc[:,'inv-nodes']\n",
    "col_node_caps = data.loc[:,'node-caps']\n",
    "col_deg_malig = data.loc[:,'deg-malig']\n",
    "col_breast = data.loc[:,'breast']\n",
    "col_breast_quad = data.loc[:,'breast-quad']\n",
    "col_irradiant = data.loc[:,'irradiant']\n",
    "\n",
    "\n",
    "print(col_class.head(5)) #Teste de coluna\n",
    "print(col_age.head(5)) #Teste de coluna\n",
    "print(col_irradiant.head(5)) #Teste de coluna"
   ]
  },
  {
   "cell_type": "code",
   "execution_count": 7,
   "metadata": {
    "tags": []
   },
   "outputs": [],
   "source": [
    "#Metodo de normalização\n",
    "#Recebe coluna do pandas, os arquimentos antigos para serem subistidutos,\n",
    "#Argumentos novos que vão subistituir\n",
    "def normalize(col, old_args =[], new_args =[]):\n",
    "\n",
    "    #Verfica o tamanho dos arrays, se forem diferentes lancam erro\n",
    "    if len(old_args)  == len(new_args): \n",
    "               \n",
    "        #redistribuo os valores com o metodo replace do pandas\n",
    "        return col.replace([*old_args], [*new_args])\n",
    "    else:\n",
    "        print(\"Os numeros de argumentos nos arrays devem ser iguais\")\n",
    "        return"
   ]
  },
  {
   "cell_type": "code",
   "execution_count": 8,
   "metadata": {
    "tags": []
   },
   "outputs": [
    {
     "output_type": "stream",
     "name": "stdout",
     "text": "0    0\n1    0\n2    0\nName: class, dtype: int64\n0    1\n1    1\n2    1\nName: node-caps, dtype: object\n0    0\n1    1\n2    0\nName: breast, dtype: int64\n0    1\n1    1\n2    1\nName: irradiant, dtype: int64\n"
    }
   ],
   "source": [
    "#Normalização dos dados - Binarios\n",
    "#no-recurrence-events = 0\n",
    "#recurrence-events = 1\n",
    "new_col_class = normalize(col_class, ['no-recurrence-events', 'recurrence-events'], [0, 1])\n",
    "\n",
    "#node-caps\n",
    "#yes = 0\n",
    "#no = 1\n",
    "new_col_node_caps = normalize(col_node_caps, ['yes', 'no'], [0, 1]) \n",
    "\n",
    "#Breat\n",
    "#left = 0\n",
    "#right = 1\n",
    "new_col_breast = normalize(col_breast, ['left', 'right'], [0, 1]) \n",
    "\n",
    "#Iradiant\n",
    "#yes = 0\n",
    "#no = 1\n",
    "new_col_irradiant = normalize(col_irradiant, ['yes', 'no'], [0, 1])\n",
    "\n",
    "print(new_col_class.head(3)) #Teste normalizacao\n",
    "print(new_col_node_caps.head(3)) #Teste normalizacao\n",
    "print(new_col_breast.head(3)) #Teste normalizacao\n",
    "print(new_col_irradiant.head(3)) #Teste normalizacao\n"
   ]
  },
  {
   "cell_type": "code",
   "execution_count": 9,
   "metadata": {
    "tags": []
   },
   "outputs": [
    {
     "output_type": "stream",
     "name": "stdout",
     "text": "0    1\n1    1\n2    1\n3    0\n4    1\nName: menopause, dtype: int64\n0    1\n1    0\n2    0\n3    0\n4    0\nName: deg-malig, dtype: int64\n0   -0.5\n1      0\n2   -0.5\n3     -1\n4    0.5\nName: breast-quad, dtype: object\n"
    }
   ],
   "source": [
    "#Normalização dos dados - Ternario...\n",
    "#Menopause\n",
    "#lt40 = -1\n",
    "#ge40 = 0\n",
    "#premeno = 1\n",
    "new_col_menopause = normalize(col_menopause, ['lt40', 'ge40', 'premeno'], [-1, 0, 1])\n",
    "\n",
    "#deg-malig\n",
    "#1 = -1\n",
    "#2 = 0\n",
    "#3 = 1\n",
    "new_col_deg_malig = normalize(col_deg_malig, [1, 2, 3], [-1, 0, 1])\n",
    "\n",
    "#Breast-quad\n",
    "#left_up  = -1\n",
    "#left_low = -0,5\n",
    "#right_up  = 0\n",
    "#right_low  = 0,5\n",
    "#central  = 1\n",
    "new_col_breast_quad = normalize(col_breast_quad, ['left_up', 'left_low', 'right_up', 'right_low', 'central'], [-1, -0.5, 0, 0.5, 1])\n",
    "\n",
    "print(new_col_menopause.head(5)) #Teste normalizacao\n",
    "print(new_col_deg_malig.head(5)) #Teste normalizacao\n",
    "print(new_col_breast_quad.head(5)) #Teste normalizacao"
   ]
  },
  {
   "cell_type": "code",
   "execution_count": 10,
   "metadata": {},
   "outputs": [],
   "source": [
    "#Sobrescrita do metodo de normalizacao para trabalhar com range\n",
    "#Trabalha de froma semlhande ao de cima só que subistitui para um range de 0 a 1\n",
    "def normalize(col, args = [], is_range=True, is_round=False):\n",
    "    if is_range:\n",
    "        numero_elementos = len(args)\n",
    "\n",
    "        def scale_convertion(this_arg):\n",
    "            if is_round:\n",
    "                return round(1 / (numero_elementos - 1) * this_arg[0], 2)\n",
    "            else:\n",
    "                # maxEscala / (numero_elementos - 1) * argumento -> Menos 1 para acontagem ir até o 1\n",
    "                return 1 / (numero_elementos - 1) * this_arg[0]\n",
    "\n",
    "        #Remapea em loop com a função de cima\n",
    "        new_args = map(scale_convertion, enumerate(args))\n",
    "\n",
    "        return col.replace([*args], [*new_args]) "
   ]
  },
  {
   "source": [
    "\n",
    "#Age\n",
    "#10-19 = 0\n",
    "#a\n",
    "#90-99 = 1\n",
    "new_col_age = normalize(col_age, ['10-19', '20-29', '30-39', '40-49', '50-59', '60-69', '70-79', '80-89', '90-99'], is_range=True, is_round=True)\n",
    "\n",
    "print(new_col_age.head(10)) #Teste normalizacao"
   ],
   "cell_type": "code",
   "metadata": {
    "tags": []
   },
   "execution_count": 11,
   "outputs": [
    {
     "output_type": "stream",
     "name": "stdout",
     "text": "0    0.25\n1    0.38\n2    0.38\n3    0.62\n4    0.38\n5    0.62\n6    0.50\n7    0.62\n8    0.38\n9    0.38\nName: age, dtype: float64\n"
    }
   ]
  },
  {
   "cell_type": "code",
   "execution_count": 12,
   "metadata": {
    "tags": []
   },
   "outputs": [
    {
     "output_type": "execute_result",
     "data": {
      "text/plain": "                    class    age menopause tumor-size inv-nodes node-caps  \\\n4    no-recurrence-events  40-49   premeno        0-4       0-2        no   \n12   no-recurrence-events  60-69      lt40      10-14       0-2        no   \n3    no-recurrence-events  60-69      ge40      15-19       0-2        no   \n1    no-recurrence-events  40-49   premeno      20-24       0-2        no   \n6    no-recurrence-events  50-59   premeno      25-29       0-2        no   \n0    no-recurrence-events  30-39   premeno      30-34       0-2        no   \n24   no-recurrence-events  50-59   premeno      35-39       0-2        no   \n20   no-recurrence-events  50-59      ge40      40-44       0-2        no   \n143  no-recurrence-events  40-49   premeno      45-49       0-2        no   \n42   no-recurrence-events  60-69      ge40        5-9       0-2        no   \n8    no-recurrence-events  40-49   premeno      50-54       0-2        no   \n\n     deg-malig breast breast-quad irradiant  \n4            2  right   right_low        no  \n12           1   left    right_up        no  \n3            2  right     left_up        no  \n1            2  right    right_up        no  \n6            2   left    left_low        no  \n0            3   left    left_low        no  \n24           2  right     left_up        no  \n20           2   left    left_low        no  \n143          2   left    left_low       yes  \n42           1   left     central        no  \n8            2   left    left_low        no  ",
      "text/html": "<div>\n<style scoped>\n    .dataframe tbody tr th:only-of-type {\n        vertical-align: middle;\n    }\n\n    .dataframe tbody tr th {\n        vertical-align: top;\n    }\n\n    .dataframe thead th {\n        text-align: right;\n    }\n</style>\n<table border=\"1\" class=\"dataframe\">\n  <thead>\n    <tr style=\"text-align: right;\">\n      <th></th>\n      <th>class</th>\n      <th>age</th>\n      <th>menopause</th>\n      <th>tumor-size</th>\n      <th>inv-nodes</th>\n      <th>node-caps</th>\n      <th>deg-malig</th>\n      <th>breast</th>\n      <th>breast-quad</th>\n      <th>irradiant</th>\n    </tr>\n  </thead>\n  <tbody>\n    <tr>\n      <th>4</th>\n      <td>no-recurrence-events</td>\n      <td>40-49</td>\n      <td>premeno</td>\n      <td>0-4</td>\n      <td>0-2</td>\n      <td>no</td>\n      <td>2</td>\n      <td>right</td>\n      <td>right_low</td>\n      <td>no</td>\n    </tr>\n    <tr>\n      <th>12</th>\n      <td>no-recurrence-events</td>\n      <td>60-69</td>\n      <td>lt40</td>\n      <td>10-14</td>\n      <td>0-2</td>\n      <td>no</td>\n      <td>1</td>\n      <td>left</td>\n      <td>right_up</td>\n      <td>no</td>\n    </tr>\n    <tr>\n      <th>3</th>\n      <td>no-recurrence-events</td>\n      <td>60-69</td>\n      <td>ge40</td>\n      <td>15-19</td>\n      <td>0-2</td>\n      <td>no</td>\n      <td>2</td>\n      <td>right</td>\n      <td>left_up</td>\n      <td>no</td>\n    </tr>\n    <tr>\n      <th>1</th>\n      <td>no-recurrence-events</td>\n      <td>40-49</td>\n      <td>premeno</td>\n      <td>20-24</td>\n      <td>0-2</td>\n      <td>no</td>\n      <td>2</td>\n      <td>right</td>\n      <td>right_up</td>\n      <td>no</td>\n    </tr>\n    <tr>\n      <th>6</th>\n      <td>no-recurrence-events</td>\n      <td>50-59</td>\n      <td>premeno</td>\n      <td>25-29</td>\n      <td>0-2</td>\n      <td>no</td>\n      <td>2</td>\n      <td>left</td>\n      <td>left_low</td>\n      <td>no</td>\n    </tr>\n    <tr>\n      <th>0</th>\n      <td>no-recurrence-events</td>\n      <td>30-39</td>\n      <td>premeno</td>\n      <td>30-34</td>\n      <td>0-2</td>\n      <td>no</td>\n      <td>3</td>\n      <td>left</td>\n      <td>left_low</td>\n      <td>no</td>\n    </tr>\n    <tr>\n      <th>24</th>\n      <td>no-recurrence-events</td>\n      <td>50-59</td>\n      <td>premeno</td>\n      <td>35-39</td>\n      <td>0-2</td>\n      <td>no</td>\n      <td>2</td>\n      <td>right</td>\n      <td>left_up</td>\n      <td>no</td>\n    </tr>\n    <tr>\n      <th>20</th>\n      <td>no-recurrence-events</td>\n      <td>50-59</td>\n      <td>ge40</td>\n      <td>40-44</td>\n      <td>0-2</td>\n      <td>no</td>\n      <td>2</td>\n      <td>left</td>\n      <td>left_low</td>\n      <td>no</td>\n    </tr>\n    <tr>\n      <th>143</th>\n      <td>no-recurrence-events</td>\n      <td>40-49</td>\n      <td>premeno</td>\n      <td>45-49</td>\n      <td>0-2</td>\n      <td>no</td>\n      <td>2</td>\n      <td>left</td>\n      <td>left_low</td>\n      <td>yes</td>\n    </tr>\n    <tr>\n      <th>42</th>\n      <td>no-recurrence-events</td>\n      <td>60-69</td>\n      <td>ge40</td>\n      <td>5-9</td>\n      <td>0-2</td>\n      <td>no</td>\n      <td>1</td>\n      <td>left</td>\n      <td>central</td>\n      <td>no</td>\n    </tr>\n    <tr>\n      <th>8</th>\n      <td>no-recurrence-events</td>\n      <td>40-49</td>\n      <td>premeno</td>\n      <td>50-54</td>\n      <td>0-2</td>\n      <td>no</td>\n      <td>2</td>\n      <td>left</td>\n      <td>left_low</td>\n      <td>no</td>\n    </tr>\n  </tbody>\n</table>\n</div>"
     },
     "metadata": {},
     "execution_count": 12
    }
   ],
   "source": [
    "#Verificando os tipos de dados da coluna\n",
    "data.drop_duplicates(subset='tumor-size').sort_values(by='tumor-size')\n"
   ]
  },
  {
   "cell_type": "code",
   "execution_count": 26,
   "metadata": {},
   "outputs": [
    {
     "output_type": "execute_result",
     "data": {
      "text/plain": "                    class    age menopause tumor-size inv-nodes node-caps  \\\n0    no-recurrence-events  30-39   premeno      30-34       0-2        no   \n190  no-recurrence-events  40-49   premeno      15-19     12-14        no   \n150  no-recurrence-events  50-59      ge40      25-29     15-17       yes   \n267     recurrence-events  60-69      ge40      20-24     24-26       yes   \n131  no-recurrence-events  40-49   premeno      40-44       3-5       yes   \n126  no-recurrence-events  30-39   premeno      30-34       6-8       yes   \n129  no-recurrence-events  40-49   premeno      35-39      9-11       yes   \n\n     deg-malig breast breast-quad irradiant  \n0            3   left    left_low        no  \n190          3  right   right_low       yes  \n150          3  right     left_up        no  \n267          3   left    left_low       yes  \n131          3  right     left_up       yes  \n126          2  right    right_up        no  \n129          2  right     left_up       yes  ",
      "text/html": "<div>\n<style scoped>\n    .dataframe tbody tr th:only-of-type {\n        vertical-align: middle;\n    }\n\n    .dataframe tbody tr th {\n        vertical-align: top;\n    }\n\n    .dataframe thead th {\n        text-align: right;\n    }\n</style>\n<table border=\"1\" class=\"dataframe\">\n  <thead>\n    <tr style=\"text-align: right;\">\n      <th></th>\n      <th>class</th>\n      <th>age</th>\n      <th>menopause</th>\n      <th>tumor-size</th>\n      <th>inv-nodes</th>\n      <th>node-caps</th>\n      <th>deg-malig</th>\n      <th>breast</th>\n      <th>breast-quad</th>\n      <th>irradiant</th>\n    </tr>\n  </thead>\n  <tbody>\n    <tr>\n      <th>0</th>\n      <td>no-recurrence-events</td>\n      <td>30-39</td>\n      <td>premeno</td>\n      <td>30-34</td>\n      <td>0-2</td>\n      <td>no</td>\n      <td>3</td>\n      <td>left</td>\n      <td>left_low</td>\n      <td>no</td>\n    </tr>\n    <tr>\n      <th>190</th>\n      <td>no-recurrence-events</td>\n      <td>40-49</td>\n      <td>premeno</td>\n      <td>15-19</td>\n      <td>12-14</td>\n      <td>no</td>\n      <td>3</td>\n      <td>right</td>\n      <td>right_low</td>\n      <td>yes</td>\n    </tr>\n    <tr>\n      <th>150</th>\n      <td>no-recurrence-events</td>\n      <td>50-59</td>\n      <td>ge40</td>\n      <td>25-29</td>\n      <td>15-17</td>\n      <td>yes</td>\n      <td>3</td>\n      <td>right</td>\n      <td>left_up</td>\n      <td>no</td>\n    </tr>\n    <tr>\n      <th>267</th>\n      <td>recurrence-events</td>\n      <td>60-69</td>\n      <td>ge40</td>\n      <td>20-24</td>\n      <td>24-26</td>\n      <td>yes</td>\n      <td>3</td>\n      <td>left</td>\n      <td>left_low</td>\n      <td>yes</td>\n    </tr>\n    <tr>\n      <th>131</th>\n      <td>no-recurrence-events</td>\n      <td>40-49</td>\n      <td>premeno</td>\n      <td>40-44</td>\n      <td>3-5</td>\n      <td>yes</td>\n      <td>3</td>\n      <td>right</td>\n      <td>left_up</td>\n      <td>yes</td>\n    </tr>\n    <tr>\n      <th>126</th>\n      <td>no-recurrence-events</td>\n      <td>30-39</td>\n      <td>premeno</td>\n      <td>30-34</td>\n      <td>6-8</td>\n      <td>yes</td>\n      <td>2</td>\n      <td>right</td>\n      <td>right_up</td>\n      <td>no</td>\n    </tr>\n    <tr>\n      <th>129</th>\n      <td>no-recurrence-events</td>\n      <td>40-49</td>\n      <td>premeno</td>\n      <td>35-39</td>\n      <td>9-11</td>\n      <td>yes</td>\n      <td>2</td>\n      <td>right</td>\n      <td>left_up</td>\n      <td>yes</td>\n    </tr>\n  </tbody>\n</table>\n</div>"
     },
     "metadata": {},
     "execution_count": 26
    }
   ],
   "source": [
    "#Verificando os tipos de dados da coluna\n",
    "data.drop_duplicates(subset=\"inv-nodes\").sort_values(by='inv-nodes')"
   ]
  },
  {
   "cell_type": "code",
   "execution_count": 14,
   "metadata": {
    "tags": []
   },
   "outputs": [
    {
     "output_type": "stream",
     "name": "stdout",
     "text": "0      0.55\n1      0.36\n2      0.36\n3      0.27\n4      0.00\n       ... \n281    0.55\n282    0.36\n283    0.36\n284    0.55\n285    0.55\nName: tumor-size, Length: 286, dtype: float64\n0      0.00\n1      0.00\n2      0.00\n3      0.00\n4      0.00\n       ... \n264    0.00\n265    0.43\n266    0.14\n267    0.86\n268    0.00\nName: inv-nodes, Length: 269, dtype: float64\n"
    }
   ],
   "source": [
    "#Tumor size\n",
    "#Entradas ['0-4', '5-9', '6-8', '10-14', '15-19', '20-24', '25-29', '30-34', '35-39', '40-44', '45-49', '50-54', '55-59']\n",
    "#0-4 = 0\n",
    "#55-59 = 1\n",
    "new_col_tumor_size = normalize(col_tumor_size, ['0-4', '5-9', '10-14', '15-19', '20-24', '25-29', '30-34', '35-39', '40-44', '45-49','50-54', '55-59'], is_range=True, is_round=True)\n",
    "\n",
    "#Inv nodes\n",
    "#Entradas ['0-2', '3-5', '6-8', '9-11', '12-14', '15-17', '24-26', '36-39']\n",
    "#0-2 = 0\n",
    "#36-39 = 1\n",
    "new_col_inv_nodes = normalize(col_inv_nodes, ['0-2', '3-5', '6-8', '9-11', '12-14', '15-17', '24-26', '36-39'], is_range=True, is_round=True)\n",
    "\n",
    "print(new_col_tumor_size)\n",
    "print(new_col_inv_nodes.head(269))"
   ]
  },
  {
   "cell_type": "code",
   "execution_count": 15,
   "metadata": {
    "tags": []
   },
   "outputs": [
    {
     "output_type": "display_data",
     "data": {
      "text/plain": "      age  menopause  tumor-size  inv-nodes node-caps  deg-malig  breast  \\\n0    0.25          1        0.55       0.00         1          1       0   \n1    0.38          1        0.36       0.00         1          0       1   \n2    0.38          1        0.36       0.00         1          0       0   \n3    0.62          0        0.27       0.00         1          0       1   \n4    0.38          1        0.00       0.00         1          0       1   \n..    ...        ...         ...        ...       ...        ...     ...   \n281  0.25          1        0.55       0.00         1          0       0   \n282  0.25          1        0.36       0.00         1          1       0   \n283  0.62          0        0.36       0.00         1         -1       1   \n284  0.38          0        0.55       0.14         1          1       0   \n285  0.50          0        0.55       0.14         1          1       0   \n\n    breast-quad  irradiant  class  \n0          -0.5          1      0  \n1             0          1      0  \n2          -0.5          1      0  \n3            -1          1      0  \n4           0.5          1      0  \n..          ...        ...    ...  \n281          -1          1      1  \n282          -1          0      1  \n283          -1          1      1  \n284        -0.5          1      1  \n285        -0.5          1      1  \n\n[286 rows x 10 columns]",
      "text/html": "<div>\n<style scoped>\n    .dataframe tbody tr th:only-of-type {\n        vertical-align: middle;\n    }\n\n    .dataframe tbody tr th {\n        vertical-align: top;\n    }\n\n    .dataframe thead th {\n        text-align: right;\n    }\n</style>\n<table border=\"1\" class=\"dataframe\">\n  <thead>\n    <tr style=\"text-align: right;\">\n      <th></th>\n      <th>age</th>\n      <th>menopause</th>\n      <th>tumor-size</th>\n      <th>inv-nodes</th>\n      <th>node-caps</th>\n      <th>deg-malig</th>\n      <th>breast</th>\n      <th>breast-quad</th>\n      <th>irradiant</th>\n      <th>class</th>\n    </tr>\n  </thead>\n  <tbody>\n    <tr>\n      <th>0</th>\n      <td>0.25</td>\n      <td>1</td>\n      <td>0.55</td>\n      <td>0.00</td>\n      <td>1</td>\n      <td>1</td>\n      <td>0</td>\n      <td>-0.5</td>\n      <td>1</td>\n      <td>0</td>\n    </tr>\n    <tr>\n      <th>1</th>\n      <td>0.38</td>\n      <td>1</td>\n      <td>0.36</td>\n      <td>0.00</td>\n      <td>1</td>\n      <td>0</td>\n      <td>1</td>\n      <td>0</td>\n      <td>1</td>\n      <td>0</td>\n    </tr>\n    <tr>\n      <th>2</th>\n      <td>0.38</td>\n      <td>1</td>\n      <td>0.36</td>\n      <td>0.00</td>\n      <td>1</td>\n      <td>0</td>\n      <td>0</td>\n      <td>-0.5</td>\n      <td>1</td>\n      <td>0</td>\n    </tr>\n    <tr>\n      <th>3</th>\n      <td>0.62</td>\n      <td>0</td>\n      <td>0.27</td>\n      <td>0.00</td>\n      <td>1</td>\n      <td>0</td>\n      <td>1</td>\n      <td>-1</td>\n      <td>1</td>\n      <td>0</td>\n    </tr>\n    <tr>\n      <th>4</th>\n      <td>0.38</td>\n      <td>1</td>\n      <td>0.00</td>\n      <td>0.00</td>\n      <td>1</td>\n      <td>0</td>\n      <td>1</td>\n      <td>0.5</td>\n      <td>1</td>\n      <td>0</td>\n    </tr>\n    <tr>\n      <th>...</th>\n      <td>...</td>\n      <td>...</td>\n      <td>...</td>\n      <td>...</td>\n      <td>...</td>\n      <td>...</td>\n      <td>...</td>\n      <td>...</td>\n      <td>...</td>\n      <td>...</td>\n    </tr>\n    <tr>\n      <th>281</th>\n      <td>0.25</td>\n      <td>1</td>\n      <td>0.55</td>\n      <td>0.00</td>\n      <td>1</td>\n      <td>0</td>\n      <td>0</td>\n      <td>-1</td>\n      <td>1</td>\n      <td>1</td>\n    </tr>\n    <tr>\n      <th>282</th>\n      <td>0.25</td>\n      <td>1</td>\n      <td>0.36</td>\n      <td>0.00</td>\n      <td>1</td>\n      <td>1</td>\n      <td>0</td>\n      <td>-1</td>\n      <td>0</td>\n      <td>1</td>\n    </tr>\n    <tr>\n      <th>283</th>\n      <td>0.62</td>\n      <td>0</td>\n      <td>0.36</td>\n      <td>0.00</td>\n      <td>1</td>\n      <td>-1</td>\n      <td>1</td>\n      <td>-1</td>\n      <td>1</td>\n      <td>1</td>\n    </tr>\n    <tr>\n      <th>284</th>\n      <td>0.38</td>\n      <td>0</td>\n      <td>0.55</td>\n      <td>0.14</td>\n      <td>1</td>\n      <td>1</td>\n      <td>0</td>\n      <td>-0.5</td>\n      <td>1</td>\n      <td>1</td>\n    </tr>\n    <tr>\n      <th>285</th>\n      <td>0.50</td>\n      <td>0</td>\n      <td>0.55</td>\n      <td>0.14</td>\n      <td>1</td>\n      <td>1</td>\n      <td>0</td>\n      <td>-0.5</td>\n      <td>1</td>\n      <td>1</td>\n    </tr>\n  </tbody>\n</table>\n<p>286 rows × 10 columns</p>\n</div>"
     },
     "metadata": {}
    }
   ],
   "source": [
    "#output = class\n",
    "new_data = {\n",
    "    'age': new_col_age,\n",
    "    'menopause': new_col_menopause,\n",
    "    'tumor-size': new_col_tumor_size,\n",
    "    'inv-nodes': new_col_inv_nodes,\n",
    "    'node-caps': new_col_node_caps,\n",
    "    'deg-malig': new_col_deg_malig,\n",
    "    'breast': new_col_breast,\n",
    "    'breast-quad': new_col_breast_quad,\n",
    "    'irradiant': new_col_irradiant,\n",
    "    'class': new_col_class\n",
    "}\n",
    "\n",
    "normalize_data = pd.DataFrame(new_data)\n",
    "display(normalize_data)"
   ]
  },
  {
   "cell_type": "code",
   "execution_count": 29,
   "metadata": {},
   "outputs": [
    {
     "output_type": "execute_result",
     "data": {
      "text/plain": "      age  menopause  tumor-size  inv-nodes node-caps  deg-malig  breast  \\\n0    0.25          1        0.55       0.00         1          1       0   \n126  0.25          1        0.55       0.29         0          0       1   \n145  0.38          1        0.45       0.00         ?          0       0   \n\n    breast-quad  irradiant  class  \n0          -0.5          1      0  \n126           0          1      0  \n145         0.5          0      0  ",
      "text/html": "<div>\n<style scoped>\n    .dataframe tbody tr th:only-of-type {\n        vertical-align: middle;\n    }\n\n    .dataframe tbody tr th {\n        vertical-align: top;\n    }\n\n    .dataframe thead th {\n        text-align: right;\n    }\n</style>\n<table border=\"1\" class=\"dataframe\">\n  <thead>\n    <tr style=\"text-align: right;\">\n      <th></th>\n      <th>age</th>\n      <th>menopause</th>\n      <th>tumor-size</th>\n      <th>inv-nodes</th>\n      <th>node-caps</th>\n      <th>deg-malig</th>\n      <th>breast</th>\n      <th>breast-quad</th>\n      <th>irradiant</th>\n      <th>class</th>\n    </tr>\n  </thead>\n  <tbody>\n    <tr>\n      <th>0</th>\n      <td>0.25</td>\n      <td>1</td>\n      <td>0.55</td>\n      <td>0.00</td>\n      <td>1</td>\n      <td>1</td>\n      <td>0</td>\n      <td>-0.5</td>\n      <td>1</td>\n      <td>0</td>\n    </tr>\n    <tr>\n      <th>126</th>\n      <td>0.25</td>\n      <td>1</td>\n      <td>0.55</td>\n      <td>0.29</td>\n      <td>0</td>\n      <td>0</td>\n      <td>1</td>\n      <td>0</td>\n      <td>1</td>\n      <td>0</td>\n    </tr>\n    <tr>\n      <th>145</th>\n      <td>0.38</td>\n      <td>1</td>\n      <td>0.45</td>\n      <td>0.00</td>\n      <td>?</td>\n      <td>0</td>\n      <td>0</td>\n      <td>0.5</td>\n      <td>0</td>\n      <td>0</td>\n    </tr>\n  </tbody>\n</table>\n</div>"
     },
     "metadata": {},
     "execution_count": 29
    }
   ],
   "source": [
    "normalize_data.drop_duplicates(subset=\"node-caps\")"
   ]
  },
  {
   "cell_type": "code",
   "execution_count": 30,
   "metadata": {},
   "outputs": [
    {
     "output_type": "execute_result",
     "data": {
      "text/plain": "      age  menopause  tumor-size  inv-nodes node-caps  deg-malig  breast  \\\n0    0.25          1        0.55        0.0         1          1       0   \n1    0.38          1        0.36        0.0         1          0       1   \n3    0.62          0        0.27        0.0         1          0       1   \n4    0.38          1        0.00        0.0         1          0       1   \n10   0.38          1        0.00        0.0         1          1       0   \n206  0.50          0        0.55        0.0         1          1       0   \n\n    breast-quad  irradiant  class  \n0          -0.5          1      0  \n1             0          1      0  \n3            -1          1      0  \n4           0.5          1      0  \n10            1          1      0  \n206           ?          1      1  ",
      "text/html": "<div>\n<style scoped>\n    .dataframe tbody tr th:only-of-type {\n        vertical-align: middle;\n    }\n\n    .dataframe tbody tr th {\n        vertical-align: top;\n    }\n\n    .dataframe thead th {\n        text-align: right;\n    }\n</style>\n<table border=\"1\" class=\"dataframe\">\n  <thead>\n    <tr style=\"text-align: right;\">\n      <th></th>\n      <th>age</th>\n      <th>menopause</th>\n      <th>tumor-size</th>\n      <th>inv-nodes</th>\n      <th>node-caps</th>\n      <th>deg-malig</th>\n      <th>breast</th>\n      <th>breast-quad</th>\n      <th>irradiant</th>\n      <th>class</th>\n    </tr>\n  </thead>\n  <tbody>\n    <tr>\n      <th>0</th>\n      <td>0.25</td>\n      <td>1</td>\n      <td>0.55</td>\n      <td>0.0</td>\n      <td>1</td>\n      <td>1</td>\n      <td>0</td>\n      <td>-0.5</td>\n      <td>1</td>\n      <td>0</td>\n    </tr>\n    <tr>\n      <th>1</th>\n      <td>0.38</td>\n      <td>1</td>\n      <td>0.36</td>\n      <td>0.0</td>\n      <td>1</td>\n      <td>0</td>\n      <td>1</td>\n      <td>0</td>\n      <td>1</td>\n      <td>0</td>\n    </tr>\n    <tr>\n      <th>3</th>\n      <td>0.62</td>\n      <td>0</td>\n      <td>0.27</td>\n      <td>0.0</td>\n      <td>1</td>\n      <td>0</td>\n      <td>1</td>\n      <td>-1</td>\n      <td>1</td>\n      <td>0</td>\n    </tr>\n    <tr>\n      <th>4</th>\n      <td>0.38</td>\n      <td>1</td>\n      <td>0.00</td>\n      <td>0.0</td>\n      <td>1</td>\n      <td>0</td>\n      <td>1</td>\n      <td>0.5</td>\n      <td>1</td>\n      <td>0</td>\n    </tr>\n    <tr>\n      <th>10</th>\n      <td>0.38</td>\n      <td>1</td>\n      <td>0.00</td>\n      <td>0.0</td>\n      <td>1</td>\n      <td>1</td>\n      <td>0</td>\n      <td>1</td>\n      <td>1</td>\n      <td>0</td>\n    </tr>\n    <tr>\n      <th>206</th>\n      <td>0.50</td>\n      <td>0</td>\n      <td>0.55</td>\n      <td>0.0</td>\n      <td>1</td>\n      <td>1</td>\n      <td>0</td>\n      <td>?</td>\n      <td>1</td>\n      <td>1</td>\n    </tr>\n  </tbody>\n</table>\n</div>"
     },
     "metadata": {},
     "execution_count": 30
    }
   ],
   "source": [
    "normalize_data.drop_duplicates(subset=\"breast-quad\")"
   ]
  },
  {
   "cell_type": "code",
   "execution_count": 23,
   "metadata": {},
   "outputs": [],
   "source": [
    "normalize_data.to_excel('normalize_data.xls', encoding='utf-8')"
   ]
  },
  {
   "cell_type": "code",
   "execution_count": 24,
   "metadata": {},
   "outputs": [
    {
     "output_type": "display_data",
     "data": {
      "text/plain": "      age  menopause  tumor-size  inv-nodes node-caps  deg-malig  breast  \\\n0    0.25          1        0.55       0.00         1          1       0   \n1    0.38          1        0.36       0.00         1          0       1   \n2    0.38          1        0.36       0.00         1          0       0   \n3    0.62          0        0.27       0.00         1          0       1   \n4    0.38          1        0.00       0.00         1          0       1   \n..    ...        ...         ...        ...       ...        ...     ...   \n281  0.25          1        0.55       0.00         1          0       0   \n282  0.25          1        0.36       0.00         1          1       0   \n283  0.62          0        0.36       0.00         1         -1       1   \n284  0.38          0        0.55       0.14         1          1       0   \n285  0.50          0        0.55       0.14         1          1       0   \n\n    breast-quad  irradiant  class  \n0          -0.5          1      0  \n1             0          1      0  \n2          -0.5          1      0  \n3            -1          1      0  \n4           0.5          1      0  \n..          ...        ...    ...  \n281          -1          1      1  \n282          -1          0      1  \n283          -1          1      1  \n284        -0.5          1      1  \n285        -0.5          1      1  \n\n[277 rows x 10 columns]",
      "text/html": "<div>\n<style scoped>\n    .dataframe tbody tr th:only-of-type {\n        vertical-align: middle;\n    }\n\n    .dataframe tbody tr th {\n        vertical-align: top;\n    }\n\n    .dataframe thead th {\n        text-align: right;\n    }\n</style>\n<table border=\"1\" class=\"dataframe\">\n  <thead>\n    <tr style=\"text-align: right;\">\n      <th></th>\n      <th>age</th>\n      <th>menopause</th>\n      <th>tumor-size</th>\n      <th>inv-nodes</th>\n      <th>node-caps</th>\n      <th>deg-malig</th>\n      <th>breast</th>\n      <th>breast-quad</th>\n      <th>irradiant</th>\n      <th>class</th>\n    </tr>\n  </thead>\n  <tbody>\n    <tr>\n      <th>0</th>\n      <td>0.25</td>\n      <td>1</td>\n      <td>0.55</td>\n      <td>0.00</td>\n      <td>1</td>\n      <td>1</td>\n      <td>0</td>\n      <td>-0.5</td>\n      <td>1</td>\n      <td>0</td>\n    </tr>\n    <tr>\n      <th>1</th>\n      <td>0.38</td>\n      <td>1</td>\n      <td>0.36</td>\n      <td>0.00</td>\n      <td>1</td>\n      <td>0</td>\n      <td>1</td>\n      <td>0</td>\n      <td>1</td>\n      <td>0</td>\n    </tr>\n    <tr>\n      <th>2</th>\n      <td>0.38</td>\n      <td>1</td>\n      <td>0.36</td>\n      <td>0.00</td>\n      <td>1</td>\n      <td>0</td>\n      <td>0</td>\n      <td>-0.5</td>\n      <td>1</td>\n      <td>0</td>\n    </tr>\n    <tr>\n      <th>3</th>\n      <td>0.62</td>\n      <td>0</td>\n      <td>0.27</td>\n      <td>0.00</td>\n      <td>1</td>\n      <td>0</td>\n      <td>1</td>\n      <td>-1</td>\n      <td>1</td>\n      <td>0</td>\n    </tr>\n    <tr>\n      <th>4</th>\n      <td>0.38</td>\n      <td>1</td>\n      <td>0.00</td>\n      <td>0.00</td>\n      <td>1</td>\n      <td>0</td>\n      <td>1</td>\n      <td>0.5</td>\n      <td>1</td>\n      <td>0</td>\n    </tr>\n    <tr>\n      <th>...</th>\n      <td>...</td>\n      <td>...</td>\n      <td>...</td>\n      <td>...</td>\n      <td>...</td>\n      <td>...</td>\n      <td>...</td>\n      <td>...</td>\n      <td>...</td>\n      <td>...</td>\n    </tr>\n    <tr>\n      <th>281</th>\n      <td>0.25</td>\n      <td>1</td>\n      <td>0.55</td>\n      <td>0.00</td>\n      <td>1</td>\n      <td>0</td>\n      <td>0</td>\n      <td>-1</td>\n      <td>1</td>\n      <td>1</td>\n    </tr>\n    <tr>\n      <th>282</th>\n      <td>0.25</td>\n      <td>1</td>\n      <td>0.36</td>\n      <td>0.00</td>\n      <td>1</td>\n      <td>1</td>\n      <td>0</td>\n      <td>-1</td>\n      <td>0</td>\n      <td>1</td>\n    </tr>\n    <tr>\n      <th>283</th>\n      <td>0.62</td>\n      <td>0</td>\n      <td>0.36</td>\n      <td>0.00</td>\n      <td>1</td>\n      <td>-1</td>\n      <td>1</td>\n      <td>-1</td>\n      <td>1</td>\n      <td>1</td>\n    </tr>\n    <tr>\n      <th>284</th>\n      <td>0.38</td>\n      <td>0</td>\n      <td>0.55</td>\n      <td>0.14</td>\n      <td>1</td>\n      <td>1</td>\n      <td>0</td>\n      <td>-0.5</td>\n      <td>1</td>\n      <td>1</td>\n    </tr>\n    <tr>\n      <th>285</th>\n      <td>0.50</td>\n      <td>0</td>\n      <td>0.55</td>\n      <td>0.14</td>\n      <td>1</td>\n      <td>1</td>\n      <td>0</td>\n      <td>-0.5</td>\n      <td>1</td>\n      <td>1</td>\n    </tr>\n  </tbody>\n</table>\n<p>277 rows × 10 columns</p>\n</div>"
     },
     "metadata": {}
    }
   ],
   "source": [
    "newcol = normalize_data[normalize_data['node-caps'] != '?']\n",
    "normalize_data_drop = newcol[newcol['breast-quad'] != '?']\n",
    "\n",
    "display(normalize_data_drop)"
   ]
  },
  {
   "cell_type": "code",
   "execution_count": 25,
   "metadata": {},
   "outputs": [],
   "source": [
    "def infos(data, classes =['', ''], info=True):\n",
    "    class0, class1 = 0, 0\n",
    "    for d in data: \n",
    "        #classe 0 e calsse 1\n",
    "        if d[-1] == 0:\n",
    "            class0 += 1\n",
    "        else:\n",
    "            class1 += 1\n",
    "\n",
    "    if info:\n",
    "        print(\"Total de amostras:\", len(data))\n",
    "        print(\"Total \" + classes[0] + \":\", class0)\n",
    "        print(\"Total \" + classes[1] + \":\", class1)\n",
    "    \n",
    "    return [len(data), class0, class1]\n",
    "    "
   ]
  },
  {
   "cell_type": "code",
   "execution_count": 26,
   "metadata": {
    "tags": []
   },
   "outputs": [
    {
     "output_type": "stream",
     "name": "stdout",
     "text": "Total de amostras: 277\nTotal no-recurrence-events: 196\nTotal recurrence-events: 81\n"
    },
    {
     "output_type": "execute_result",
     "data": {
      "text/plain": "[277, 196, 81]"
     },
     "metadata": {},
     "execution_count": 26
    }
   ],
   "source": [
    "infos(normalize_data_drop.to_numpy(), ['no-recurrence-events', 'recurrence-events'])#Classe 0 e classe 1"
   ]
  },
  {
   "cell_type": "code",
   "execution_count": 27,
   "metadata": {
    "tags": []
   },
   "outputs": [],
   "source": [
    "#Metade da amostra irá para treinamento\n",
    "training_percent = 0.7\n",
    "\n",
    "#recebendo a quantidade dos dados possiveis\n",
    "_, class0_num, class1_num = infos(normalize_data_drop.to_numpy(), info=False)\n",
    "\n",
    "#Iniciando listas\n",
    "training, test = [], []\n",
    "\n",
    "#Maximo de dados que podem ser usados por classe para a massa\n",
    "max_class0 = int(training_percent * class0_num)\n",
    "max_class1 = int(training_percent * class1_num)\n",
    "\n",
    "#Total de cada classe\n",
    "total_class0, total_class1 = 0, 0\n",
    "\n",
    "#Percorre os dados normalizados sem os dados ivalidos\n",
    "for data in normalize_data_drop.to_numpy():\n",
    "    #Enquando a soma do total for menor q o maximo possivel\n",
    "    if(total_class0 + total_class1) < (max_class0 + max_class1):\n",
    "        #Se for igual a 0 adiciona ao teste e vai limitando\n",
    "        if data[-1] == 0 and total_class0 <= max_class0:\n",
    "                training.append(data)\n",
    "                total_class0 += 1\n",
    "        #Se for igual a 1 adiciona ao teste e vai limitando\n",
    "        elif data[-1] == 1 and total_class1 <= max_class1:\n",
    "                training.append(data)\n",
    "                total_class1 += 1\n",
    "        #Adciona sem limitar se não for nenhum dos casos\n",
    "        else:\n",
    "            test.append(data)\n",
    "    else:\n",
    "        #O que sobrar é adicionado ao teste\n",
    "        test.append(data)"
   ]
  },
  {
   "cell_type": "code",
   "execution_count": 28,
   "metadata": {},
   "outputs": [],
   "source": [
    "#Distancia euclidiana\n",
    "def ecludian(p1, p2):\n",
    "    #Quantidade de dimenções\n",
    "    dim = len(p1)\n",
    "    #A soma das potencias das distancias\n",
    "    total_sum = 0\n",
    "    #Pecorrendo as dimenções\n",
    "    for i in range(dim):\n",
    "        #A distancia do dado na posicao menos o outro dado na mesma posição em potencia\n",
    "        total_sum += (p1[i] - p2[i]) ** 2\n",
    "    #Raiz das somas das potencias\n",
    "    return math.sqrt(total_sum)\n"
   ]
  },
  {
   "cell_type": "code",
   "execution_count": 29,
   "metadata": {},
   "outputs": [],
   "source": [
    "#Calculando o knn\n",
    "def knn(training_data, new_data, k):\n",
    "    #Index das distancias\n",
    "    distances = {}\n",
    "    #Quantidade de dados que vao treinar o algoritimo\n",
    "    len_trainig = len(training_data)\n",
    "\n",
    "    #Percorendo os dados para treino e calculando a distancia euclidiana\n",
    "    for i in range(len_trainig):\n",
    "        #Distancia no indice i\n",
    "        d = ecludian(training_data[i], new_data)\n",
    "        distances[i] = d\n",
    "    \n",
    "    k_neighborhoods = sorted(distances, key=distances.get)[:k]\n",
    "\n",
    "    num_class0, num_class1 = 0, 0\n",
    "\n",
    "    #Pegando as classe dos vizinhos\n",
    "    for i in k_neighborhoods:\n",
    "        if training_data[i][-1] == 0:\n",
    "            num_class0 += 1\n",
    "        else:\n",
    "            num_class1 += 1\n",
    "    \n",
    "    if num_class0 > num_class1:\n",
    "        return 0\n",
    "    else:\n",
    "        return 1"
   ]
  },
  {
   "cell_type": "code",
   "execution_count": 46,
   "metadata": {
    "tags": []
   },
   "outputs": [
    {
     "output_type": "stream",
     "name": "stdout",
     "text": "1\n"
    }
   ],
   "source": [
    "print(knn(training, test[83], k=9))"
   ]
  },
  {
   "cell_type": "code",
   "execution_count": 58,
   "metadata": {
    "tags": []
   },
   "outputs": [
    {
     "output_type": "stream",
     "name": "stdout",
     "text": "Total de treinamento  193\nTotal de testes  84\nTotal de acertos  82\nPorcentagem de acertos  97.61904761904762\n"
    }
   ],
   "source": [
    "corrects = 0\n",
    "k = 7\n",
    "\n",
    "for data in test:\n",
    "    num_class = (knn(training, data, k))\n",
    "    if data[-1] == num_class:\n",
    "        corrects += 1\n",
    "\n",
    "print(\"Total de treinamento \", len(training))\n",
    "print(\"Total de testes \", len(test))\n",
    "print(\"Total de acertos \", corrects)\n",
    "print(\"Porcentagem de acertos \", 100*corrects/len(test))"
   ]
  },
  {
   "cell_type": "code",
   "execution_count": null,
   "metadata": {},
   "outputs": [],
   "source": []
  }
 ]
}